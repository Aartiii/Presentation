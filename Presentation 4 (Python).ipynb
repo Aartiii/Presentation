{
 "cells": [
  {
   "cell_type": "code",
   "execution_count": 1,
   "metadata": {},
   "outputs": [],
   "source": [
    "#  List Comprehensions\n",
    "#  newList = [ expression(element) for element in oldList if condition ]\n",
    "#  creating new lists from other iterables like tuples, strings, arrays, lists, etc."
   ]
  },
  {
   "cell_type": "code",
   "execution_count": 2,
   "metadata": {},
   "outputs": [
    {
     "name": "stdout",
     "output_type": "stream",
     "text": [
      "['H', 'e', 'l', 'l', 'o', 'W', 'o', 'r', 'l', 'd']\n"
     ]
    }
   ],
   "source": [
    "# normal method\n",
    "x  = 'HelloWorld'\n",
    "x_list = [] # step 1\n",
    "for char in x: # step 2\n",
    "    x_list.append(char) # step 3    \n",
    "print(x_list)"
   ]
  },
  {
   "cell_type": "code",
   "execution_count": 3,
   "metadata": {},
   "outputs": [
    {
     "name": "stdout",
     "output_type": "stream",
     "text": [
      "['H', 'e', 'l', 'l', 'o', 'W', 'o', 'r', 'l', 'd']\n"
     ]
    }
   ],
   "source": [
    "# Using list comprehension\n",
    "x_list = [char for char in x]\n",
    "print(x_list)"
   ]
  },
  {
   "cell_type": "code",
   "execution_count": 4,
   "metadata": {},
   "outputs": [
    {
     "name": "stdout",
     "output_type": "stream",
     "text": [
      "[0, 3, 6, 9]\n"
     ]
    }
   ],
   "source": [
    "# normal method\n",
    "list1 = [] \n",
    "\n",
    "for i in range(11):\n",
    "    if(i%3 == 0):\n",
    "        list1.append(i)\n",
    "        \n",
    "print(list1)"
   ]
  },
  {
   "cell_type": "code",
   "execution_count": 5,
   "metadata": {},
   "outputs": [
    {
     "data": {
      "text/plain": [
       "[0, 3, 6, 9]"
      ]
     },
     "execution_count": 5,
     "metadata": {},
     "output_type": "execute_result"
    }
   ],
   "source": [
    "# Check for even numbers in a range\n",
    "list1 = [i for i in range(11) if(i%3 == 0)] \n",
    "list1"
   ]
  },
  {
   "cell_type": "code",
   "execution_count": 11,
   "metadata": {},
   "outputs": [
    {
     "ename": "SyntaxError",
     "evalue": "invalid syntax (<ipython-input-11-fac65ccd9e68>, line 6)",
     "output_type": "error",
     "traceback": [
      "\u001b[1;36m  File \u001b[1;32m\"<ipython-input-11-fac65ccd9e68>\"\u001b[1;36m, line \u001b[1;32m6\u001b[0m\n\u001b[1;33m    if(4>2)\u001b[0m\n\u001b[1;37m           ^\u001b[0m\n\u001b[1;31mSyntaxError\u001b[0m\u001b[1;31m:\u001b[0m invalid syntax\n"
     ]
    }
   ],
   "source": [
    "# Exception Handling\n",
    "#Whenever Error/Exception happens the program will abruptly terminate\n",
    "#We need to handle the Exceptions, so we use try , catch , finally block\n",
    "# Syntax Error \n",
    "try:\n",
    "    if(4>2)\n",
    "        print('A')\n",
    "except:\n",
    "    print(\"Exception\")"
   ]
  },
  {
   "cell_type": "code",
   "execution_count": 12,
   "metadata": {},
   "outputs": [
    {
     "name": "stdout",
     "output_type": "stream",
     "text": [
      "An exception occurred\n"
     ]
    }
   ],
   "source": [
    "#Exceptions : any error other than sytax errors are called as exception\n",
    "#The try block lets you test a block of code for errors.\n",
    "#The except block lets you handle the error.\n",
    "try:\n",
    "    print(a)\n",
    "except:\n",
    "    print(\"An exception occurred\")"
   ]
  },
  {
   "cell_type": "code",
   "execution_count": 9,
   "metadata": {
    "scrolled": true
   },
   "outputs": [
    {
     "name": "stdout",
     "output_type": "stream",
     "text": [
      "Item in the list is :  z\n",
      "Oops! <class 'ValueError'> occurred.\n",
      "Next item in list .\n",
      "\n",
      "Item in the list is :  0\n",
      "Oops! <class 'ZeroDivisionError'> occurred.\n",
      "Next item in list .\n",
      "\n",
      "Item in the list is :  4\n",
      "The reciprocal of 4 is 0.25\n"
     ]
    }
   ],
   "source": [
    "# import module sys to get the type of exception\n",
    "import sys\n",
    "\n",
    "list1 = ['z',0,4]\n",
    "\n",
    "for i in list1:\n",
    "    try:\n",
    "        print(\"Item in the list is : \", i)\n",
    "        result = 1/int(i)\n",
    "        break\n",
    "    except:\n",
    "        print(\"Oops!\", sys.exc_info()[0], \"occurred.\")\n",
    "        print(\"Next item in list .\")\n",
    "        print()\n",
    "print(\"The reciprocal of\", i, \"is\", result)"
   ]
  },
  {
   "cell_type": "code",
   "execution_count": 10,
   "metadata": {},
   "outputs": [
    {
     "name": "stdout",
     "output_type": "stream",
     "text": [
      "Invalid index\n",
      "End of program\n"
     ]
    }
   ],
   "source": [
    "# finally : No matter if the exception occurs or not this block will compulsorily get executed\n",
    "# else : it wll execute if no exception is there\n",
    "try:\n",
    "    index = 6\n",
    "    elem = list1[index]\n",
    "    print('element = ',elem)\n",
    "except:\n",
    "    print('Invalid index')\n",
    "else:\n",
    "    print('No exception')\n",
    "finally:\n",
    "    print(\"End of program\")"
   ]
  },
  {
   "cell_type": "code",
   "execution_count": 14,
   "metadata": {},
   "outputs": [
    {
     "name": "stdout",
     "output_type": "stream",
     "text": [
      "Enter a number: 4\n",
      "Reciprocal is : 0.25\n"
     ]
    }
   ],
   "source": [
    "# program to print the reciprocal of even numbers\n",
    "\n",
    "try:\n",
    "    num = int(input(\"Enter a number: \"))\n",
    "    assert num % 2 == 0\n",
    "except:\n",
    "    print(\"Not an even number!\")\n",
    "else:\n",
    "    reciprocal = 1/num\n",
    "    print('Reciprocal is :',reciprocal)"
   ]
  },
  {
   "cell_type": "code",
   "execution_count": 15,
   "metadata": {},
   "outputs": [
    {
     "name": "stdout",
     "output_type": "stream",
     "text": [
      "start of the program\n",
      "Enter the numerator : 5\n",
      "Enter the denominator : 0\n",
      "Numerator = 5 , Denominator = 0\n",
      "Enter a non-zero denominator\n",
      "End of program\n"
     ]
    }
   ],
   "source": [
    "print(\"start of the program\")\n",
    "\n",
    "try:\n",
    "    num1 = int(input(\"Enter the numerator : \"))\n",
    "    num2 = int(input(\"Enter the denominator : \"))\n",
    "\n",
    "    print('Numerator = {} , Denominator = {}'.format(num1,num2))\n",
    "\n",
    "    result = num1/num2\n",
    "    print(\"result = \",result)\n",
    "    \n",
    "except ZeroDivisionError:\n",
    "    print(\"Enter a non-zero denominator\")\n",
    "    \n",
    "except ValueError:\n",
    "    print(\"Please enter the numbers only\")\n",
    "    \n",
    "except:\n",
    "    print(\"Something went wrong\")\n",
    "    \n",
    "finally:\n",
    "    print(\"End of program\")\n",
    "\n"
   ]
  },
  {
   "cell_type": "code",
   "execution_count": 16,
   "metadata": {},
   "outputs": [],
   "source": [
    "# File Handling \n",
    "# 1. open()\n",
    "file = open('file1.txt','r')"
   ]
  },
  {
   "cell_type": "code",
   "execution_count": 17,
   "metadata": {},
   "outputs": [
    {
     "data": {
      "text/plain": [
       "'\"Welcome to 1.Python \\n2. java\\n3. Dot Net'"
      ]
     },
     "execution_count": 17,
     "metadata": {},
     "output_type": "execute_result"
    }
   ],
   "source": [
    "file.read()"
   ]
  },
  {
   "cell_type": "code",
   "execution_count": 18,
   "metadata": {},
   "outputs": [
    {
     "data": {
      "text/plain": [
       "''"
      ]
     },
     "execution_count": 18,
     "metadata": {},
     "output_type": "execute_result"
    }
   ],
   "source": [
    "#trying to read again\n",
    "file.read()"
   ]
  },
  {
   "cell_type": "code",
   "execution_count": 19,
   "metadata": {},
   "outputs": [
    {
     "data": {
      "text/plain": [
       "0"
      ]
     },
     "execution_count": 19,
     "metadata": {},
     "output_type": "execute_result"
    }
   ],
   "source": [
    "#to take the cursor back to beginning of the text file, use seek()\n",
    "file.seek(0)"
   ]
  },
  {
   "cell_type": "code",
   "execution_count": 20,
   "metadata": {},
   "outputs": [
    {
     "data": {
      "text/plain": [
       "'\"Welcome to 1.Python \\n2. java\\n3. Dot Net'"
      ]
     },
     "execution_count": 20,
     "metadata": {},
     "output_type": "execute_result"
    }
   ],
   "source": [
    "file.read()"
   ]
  },
  {
   "cell_type": "code",
   "execution_count": 21,
   "metadata": {},
   "outputs": [
    {
     "data": {
      "text/plain": [
       "'\"Welcome to 1.Python \\n'"
      ]
     },
     "execution_count": 21,
     "metadata": {},
     "output_type": "execute_result"
    }
   ],
   "source": [
    "file.seek(0)\n",
    "file.readline()"
   ]
  },
  {
   "cell_type": "code",
   "execution_count": 22,
   "metadata": {},
   "outputs": [
    {
     "data": {
      "text/plain": [
       "'2. java\\n'"
      ]
     },
     "execution_count": 22,
     "metadata": {},
     "output_type": "execute_result"
    }
   ],
   "source": [
    "file.readline()"
   ]
  },
  {
   "cell_type": "code",
   "execution_count": 23,
   "metadata": {},
   "outputs": [
    {
     "data": {
      "text/plain": [
       "0"
      ]
     },
     "execution_count": 23,
     "metadata": {},
     "output_type": "execute_result"
    }
   ],
   "source": [
    "file.seek(0)"
   ]
  },
  {
   "cell_type": "code",
   "execution_count": 24,
   "metadata": {},
   "outputs": [
    {
     "name": "stdout",
     "output_type": "stream",
     "text": [
      "\"Welcome to 1.Python \n",
      "\n",
      "2. java\n",
      "\n",
      "3. Dot Net\n"
     ]
    }
   ],
   "source": [
    "# you can use for loop to read all the lines\n",
    "for line in file:\n",
    "    print(line)"
   ]
  },
  {
   "cell_type": "code",
   "execution_count": 25,
   "metadata": {},
   "outputs": [
    {
     "data": {
      "text/plain": [
       "0"
      ]
     },
     "execution_count": 25,
     "metadata": {},
     "output_type": "execute_result"
    }
   ],
   "source": [
    "file.seek(0)"
   ]
  },
  {
   "cell_type": "code",
   "execution_count": 26,
   "metadata": {},
   "outputs": [
    {
     "name": "stdout",
     "output_type": "stream",
     "text": [
      "['\"Welcome to 1.Python \\n', '2. java\\n', '3. Dot Net']\n",
      "3. Dot Net\n"
     ]
    }
   ],
   "source": [
    "#To read particular lines\n",
    "list1 = file.readlines()\n",
    "print(list1)\n",
    "#to get last line\n",
    "print(list1[-1])"
   ]
  },
  {
   "cell_type": "code",
   "execution_count": 27,
   "metadata": {},
   "outputs": [],
   "source": [
    "file.close()"
   ]
  },
  {
   "cell_type": "code",
   "execution_count": 28,
   "metadata": {},
   "outputs": [],
   "source": [
    "# write() use mode = 'a' - append & use mode = 'w' - write\n",
    "# appending one line\n",
    "file = open('file1.txt','a')\n",
    "file.write('  I am appending sentence 4')\n",
    "file.close()"
   ]
  },
  {
   "cell_type": "code",
   "execution_count": 29,
   "metadata": {},
   "outputs": [
    {
     "name": "stdout",
     "output_type": "stream",
     "text": [
      "\"Welcome to 1.Python \n",
      "2. java\n",
      "3. Dot Net  I am appending sentence 4\n"
     ]
    }
   ],
   "source": [
    "# reading the file after modifying\n",
    "file = open('file1.txt')\n",
    "print(file.read())\n",
    "file.close()"
   ]
  },
  {
   "cell_type": "code",
   "execution_count": 30,
   "metadata": {},
   "outputs": [],
   "source": [
    "file = open('MyFile11.txt','w')\n",
    "file.write('Hi I am a new sentence')\n",
    "file.close()"
   ]
  },
  {
   "cell_type": "code",
   "execution_count": 31,
   "metadata": {},
   "outputs": [
    {
     "name": "stdout",
     "output_type": "stream",
     "text": [
      "Hi I am a new sentence\n"
     ]
    }
   ],
   "source": [
    "# reading the new file\n",
    "file = open('MyFile11.txt')\n",
    "print(file.read())\n",
    "file.close()"
   ]
  },
  {
   "cell_type": "code",
   "execution_count": 32,
   "metadata": {},
   "outputs": [
    {
     "name": "stdout",
     "output_type": "stream",
     "text": [
      "\"Welcome to 1.Python \n",
      "2. java\n",
      "3. Dot Net  I am appending sentence 4\n"
     ]
    }
   ],
   "source": [
    "# With statement : When we use with statement for handling files, all the cleanup will be automatically done\n",
    "#Ex1) reading the files using  with open\n",
    "with open('file1.txt') as file:\n",
    "    data = file.read()\n",
    "    print(data)\n",
    "\n",
    "\n"
   ]
  },
  {
   "cell_type": "code",
   "execution_count": 33,
   "metadata": {},
   "outputs": [
    {
     "ename": "ValueError",
     "evalue": "I/O operation on closed file.",
     "output_type": "error",
     "traceback": [
      "\u001b[1;31m---------------------------------------------------------------------------\u001b[0m",
      "\u001b[1;31mValueError\u001b[0m                                Traceback (most recent call last)",
      "\u001b[1;32m<ipython-input-33-a2938957150f>\u001b[0m in \u001b[0;36m<module>\u001b[1;34m\u001b[0m\n\u001b[1;32m----> 1\u001b[1;33m \u001b[0mfile\u001b[0m\u001b[1;33m.\u001b[0m\u001b[0mread\u001b[0m\u001b[1;33m(\u001b[0m\u001b[1;33m)\u001b[0m \u001b[1;31m#Error because the file is already closed\u001b[0m\u001b[1;33m\u001b[0m\u001b[1;33m\u001b[0m\u001b[0m\n\u001b[0m",
      "\u001b[1;31mValueError\u001b[0m: I/O operation on closed file."
     ]
    }
   ],
   "source": [
    "file.read() #Error because the file is already closed"
   ]
  },
  {
   "cell_type": "code",
   "execution_count": 34,
   "metadata": {},
   "outputs": [],
   "source": [
    "# to append\n",
    "with open('file3.txt','a') as file:\n",
    "    file.write('\\nI am sentence 2')"
   ]
  },
  {
   "cell_type": "code",
   "execution_count": 35,
   "metadata": {},
   "outputs": [],
   "source": [
    "# to write\n",
    "with open('file2.txt','w') as file:\n",
    "    file.write('I am a new file')"
   ]
  },
  {
   "cell_type": "code",
   "execution_count": 36,
   "metadata": {},
   "outputs": [],
   "source": [
    "#Class & Object\n",
    "class Cars:\n",
    "    pass\n",
    "#Creating the object\n",
    "car_obj = Cars()"
   ]
  },
  {
   "cell_type": "code",
   "execution_count": 37,
   "metadata": {},
   "outputs": [
    {
     "name": "stdout",
     "output_type": "stream",
     "text": [
      "Inside init method\n"
     ]
    }
   ],
   "source": [
    "# _init _() method , executed when class is created\n",
    "class Cars:\n",
    "    def __init__(self):     # self parameter is a reference to the current instance of the class \n",
    "        print('Inside init method')\n",
    "car_obj = Cars()"
   ]
  },
  {
   "cell_type": "code",
   "execution_count": 38,
   "metadata": {},
   "outputs": [],
   "source": [
    "class Cars:\n",
    "    def __init__(self,model,colour,brand,price):\n",
    "        self.model = model\n",
    "        self.colour = colour\n",
    "        self.brand = brand\n",
    "        self.price = price"
   ]
  },
  {
   "cell_type": "code",
   "execution_count": 39,
   "metadata": {},
   "outputs": [],
   "source": [
    "car1 = Cars('XUV500','Black','Mahindra','15 Lakh')\n"
   ]
  },
  {
   "cell_type": "code",
   "execution_count": 40,
   "metadata": {},
   "outputs": [],
   "source": [
    "car2 = Cars('Creta','Silver','Hyundai','11 Lakh')\n",
    "car3 = Cars('Audi A4','White','Audi','45 Lakh')\n",
    "car4 = Cars('Nexon','Red','Tata','12 Lakh')"
   ]
  },
  {
   "cell_type": "code",
   "execution_count": 41,
   "metadata": {},
   "outputs": [
    {
     "data": {
      "text/plain": [
       "'XUV500'"
      ]
     },
     "execution_count": 41,
     "metadata": {},
     "output_type": "execute_result"
    }
   ],
   "source": [
    "car1.model"
   ]
  },
  {
   "cell_type": "code",
   "execution_count": 42,
   "metadata": {},
   "outputs": [
    {
     "data": {
      "text/plain": [
       "'12 Lakh'"
      ]
     },
     "execution_count": 42,
     "metadata": {},
     "output_type": "execute_result"
    }
   ],
   "source": [
    "car4.price"
   ]
  },
  {
   "cell_type": "code",
   "execution_count": 44,
   "metadata": {},
   "outputs": [],
   "source": [
    "class Cars:\n",
    "    #class variables\n",
    "    year = '2019'\n",
    "   \n",
    "    def __init__(self,model,colour,brand,price):\n",
    "        self.model = model\n",
    "        self.colour = colour\n",
    "        self.brand = brand\n",
    "        self.price = price"
   ]
  },
  {
   "cell_type": "code",
   "execution_count": 45,
   "metadata": {},
   "outputs": [],
   "source": [
    "car1 = Cars('XUV500','Black','Mahindra','15 Lakh')\n",
    "car2 = Cars('Creta','Silver','Hyundai','11 Lakh')\n",
    "car3 = Cars('Audi A4','White','Audi','45 Lakh')\n",
    "car4 = Cars('Nexon','Red','Tata','12 Lakh')"
   ]
  },
  {
   "cell_type": "code",
   "execution_count": 46,
   "metadata": {},
   "outputs": [
    {
     "data": {
      "text/plain": [
       "'2019'"
      ]
     },
     "execution_count": 46,
     "metadata": {},
     "output_type": "execute_result"
    }
   ],
   "source": [
    "car1.year"
   ]
  },
  {
   "cell_type": "code",
   "execution_count": 47,
   "metadata": {},
   "outputs": [
    {
     "data": {
      "text/plain": [
       "'2019'"
      ]
     },
     "execution_count": 47,
     "metadata": {},
     "output_type": "execute_result"
    }
   ],
   "source": [
    "Cars.year"
   ]
  },
  {
   "cell_type": "code",
   "execution_count": 48,
   "metadata": {},
   "outputs": [],
   "source": [
    "class Cars:\n",
    "    #class variables\n",
    "    year = '2019'\n",
    "   \n",
    "    def __init__(self,model,colour,brand,price):\n",
    "        self.model = model\n",
    "        self.colour = colour\n",
    "        self.brand = brand\n",
    "        self.price = price\n",
    "    \n",
    "    #without any parameters\n",
    "    def start(self):\n",
    "        print('Thanx for selecting best Car : '+self.model)\n",
    "        \n",
    "    #with one parameter\n",
    "    def dest(self,destination):\n",
    "        print('Great ! Your journey will start shortly for '+destination)\n",
    "        \n",
    "    def time(self,hours = 1):\n",
    "        print(\"Your car is {} and you will reach the destination in {} hours\".format(self.model,hours))\n"
   ]
  },
  {
   "cell_type": "code",
   "execution_count": 49,
   "metadata": {},
   "outputs": [],
   "source": [
    "car1 = Cars('XUV500','Black','Mahindra','15 Lakh')\n",
    "car2 = Cars('Creta','Silver','Hyundai','11 Lakh')\n",
    "car3 = Cars('Audi A4','White','Audi','45 Lakh')\n",
    "car4 = Cars('Nexon','Red','Tata','12 Lakh')"
   ]
  },
  {
   "cell_type": "code",
   "execution_count": 50,
   "metadata": {},
   "outputs": [
    {
     "name": "stdout",
     "output_type": "stream",
     "text": [
      "Thanx for selecting best Car : Nexon\n"
     ]
    }
   ],
   "source": [
    "car4.start()"
   ]
  },
  {
   "cell_type": "code",
   "execution_count": 51,
   "metadata": {},
   "outputs": [
    {
     "name": "stdout",
     "output_type": "stream",
     "text": [
      "Great ! Your journey will start shortly for Mumbai\n"
     ]
    }
   ],
   "source": [
    "car4.dest('Mumbai')"
   ]
  },
  {
   "cell_type": "code",
   "execution_count": 52,
   "metadata": {},
   "outputs": [
    {
     "name": "stdout",
     "output_type": "stream",
     "text": [
      "Your car is Nexon and you will reach the destination in 2 hours\n"
     ]
    }
   ],
   "source": [
    "car4.time(2)"
   ]
  },
  {
   "cell_type": "code",
   "execution_count": null,
   "metadata": {},
   "outputs": [],
   "source": []
  },
  {
   "cell_type": "code",
   "execution_count": null,
   "metadata": {},
   "outputs": [],
   "source": []
  }
 ],
 "metadata": {
  "kernelspec": {
   "display_name": "Python 3",
   "language": "python",
   "name": "python3"
  },
  "language_info": {
   "codemirror_mode": {
    "name": "ipython",
    "version": 3
   },
   "file_extension": ".py",
   "mimetype": "text/x-python",
   "name": "python",
   "nbconvert_exporter": "python",
   "pygments_lexer": "ipython3",
   "version": "3.8.5"
  }
 },
 "nbformat": 4,
 "nbformat_minor": 4
}
