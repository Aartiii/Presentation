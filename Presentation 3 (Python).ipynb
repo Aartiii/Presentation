{
 "cells": [
  {
   "cell_type": "code",
   "execution_count": 1,
   "metadata": {},
   "outputs": [],
   "source": [
    "# Function : Block of reusable code which execute when its called.\n",
    "#Define Function\n",
    "def function1():\n",
    "    print(\"Hello World\")"
   ]
  },
  {
   "cell_type": "code",
   "execution_count": 2,
   "metadata": {},
   "outputs": [
    {
     "name": "stdout",
     "output_type": "stream",
     "text": [
      "Hello World\n"
     ]
    }
   ],
   "source": [
    "#calling the function\n",
    "function1()"
   ]
  },
  {
   "cell_type": "code",
   "execution_count": 3,
   "metadata": {},
   "outputs": [],
   "source": [
    "#Passing parameter in function\n",
    "def function2(fname, lname):\n",
    "    print(fname + \" \" + lname)"
   ]
  },
  {
   "cell_type": "code",
   "execution_count": 6,
   "metadata": {},
   "outputs": [
    {
     "name": "stdout",
     "output_type": "stream",
     "text": [
      "Aarti Auti\n"
     ]
    }
   ],
   "source": [
    "function2(\"Aarti\", \"Auti\") "
   ]
  },
  {
   "cell_type": "code",
   "execution_count": 9,
   "metadata": {},
   "outputs": [],
   "source": [
    "#We can pass dict. (key value)\n",
    "def dict1(PL1, PL2, PL3):\n",
    "    print(\"Welcome to \" + PL1)\n",
    "    print(\"Welcome to \" + PL2)"
   ]
  },
  {
   "cell_type": "code",
   "execution_count": 10,
   "metadata": {},
   "outputs": [
    {
     "name": "stdout",
     "output_type": "stream",
     "text": [
      "Welcome to Python\n",
      "Welcome to Java\n"
     ]
    }
   ],
   "source": [
    "dict1(PL1 = \"Python\", PL2 = \"Java\", PL3 = \"DotNet\")"
   ]
  },
  {
   "cell_type": "code",
   "execution_count": 11,
   "metadata": {},
   "outputs": [
    {
     "name": "stdout",
     "output_type": "stream",
     "text": [
      "Fav. Programming Language is Python\n"
     ]
    }
   ],
   "source": [
    "# Arbitrary Keyword Arguments **keyword\n",
    "def function3(**PL):\n",
    "    print(\"Fav. Programming Language is \" + PL[\"lang1\"])\n",
    "\n",
    "function3(lang1 = \"Python\", lang2 = \"Java\")"
   ]
  },
  {
   "cell_type": "code",
   "execution_count": 12,
   "metadata": {},
   "outputs": [
    {
     "name": "stdout",
     "output_type": "stream",
     "text": [
      "Rose\n",
      "Lily\n",
      "Jasmine\n"
     ]
    }
   ],
   "source": [
    "#passing list\n",
    "def list1(args):\n",
    "    for x in args:\n",
    "        print(x)\n",
    "\n",
    "flowers = [\"Rose\", \"Lily\", \"Jasmine\"]\n",
    "list1(flowers)"
   ]
  },
  {
   "cell_type": "code",
   "execution_count": 13,
   "metadata": {},
   "outputs": [
    {
     "name": "stdout",
     "output_type": "stream",
     "text": [
      "1\n",
      "2\n",
      "5\n"
     ]
    }
   ],
   "source": [
    "#Return Keyword  : function returns a value\n",
    "def my_function(x):\n",
    "    return 50 % x\n",
    "\n",
    "print(my_function(7))\n",
    "print(my_function(8))\n",
    "print(my_function(9))"
   ]
  },
  {
   "cell_type": "code",
   "execution_count": 17,
   "metadata": {},
   "outputs": [
    {
     "name": "stdout",
     "output_type": "stream",
     "text": [
      "\n",
      "\n",
      "Result is :\n",
      "1\n",
      "3\n",
      "6\n",
      "10\n",
      "15\n",
      "21\n",
      "28\n",
      "36\n",
      "45\n",
      "55\n"
     ]
    },
    {
     "data": {
      "text/plain": [
       "55"
      ]
     },
     "execution_count": 17,
     "metadata": {},
     "output_type": "execute_result"
    }
   ],
   "source": [
    "# Recursion : defined function can call itself\n",
    "def myfunction(i):\n",
    "    if(i > 0):\n",
    "        result = i + myfunction(i - 1)  #\n",
    "        print(result)\n",
    "    else:\n",
    "        result = 0\n",
    "    return result\n",
    "\n",
    "print(\"\\n\\nResult is :\")\n",
    "myfunction(10)  "
   ]
  },
  {
   "cell_type": "code",
   "execution_count": 18,
   "metadata": {},
   "outputs": [
    {
     "name": "stdout",
     "output_type": "stream",
     "text": [
      "func3\n",
      "func2\n",
      "func1\n"
     ]
    }
   ],
   "source": [
    "#Fun can called fun\n",
    "def func1():\n",
    "    print(\"func1\")\n",
    "\n",
    "def func2():\n",
    "    print(\"func2\")\n",
    "    func1()\n",
    "    \n",
    "def func3():\n",
    "    print(\"func3\")\n",
    "    func2()\n",
    "\n",
    "func3()"
   ]
  },
  {
   "cell_type": "code",
   "execution_count": 19,
   "metadata": {},
   "outputs": [
    {
     "name": "stdout",
     "output_type": "stream",
     "text": [
      "70\n"
     ]
    }
   ],
   "source": [
    "#Scope : var available in specified region \n",
    "#Local Scope : var created inside the function belong to local scope\n",
    "def function1():\n",
    "    x = 70\n",
    "    print(x)\n",
    "    \n",
    "function1()"
   ]
  },
  {
   "cell_type": "code",
   "execution_count": 2,
   "metadata": {},
   "outputs": [
    {
     "name": "stdout",
     "output_type": "stream",
     "text": [
      "Outer function  56\n",
      "Inner function  56\n"
     ]
    }
   ],
   "source": [
    "#Encloasing scope : inner functions can have access to the outer or enclosing function's variables\n",
    "def outerFunction():\n",
    "    x = 56\n",
    "    print('Outer function ',x)\n",
    "    def innerFunction():\n",
    "        print('Inner function ',x) \n",
    "    \n",
    "    innerFunction()\n",
    "\n",
    "outerFunction()"
   ]
  },
  {
   "cell_type": "code",
   "execution_count": 1,
   "metadata": {},
   "outputs": [
    {
     "name": "stdout",
     "output_type": "stream",
     "text": [
      "global variable : 24\n",
      "local variable : 24\n"
     ]
    }
   ],
   "source": [
    "#Global Scope : A variable created in the main body of code, accessible in local n global\n",
    "x = 12\n",
    "\n",
    "def myfunction1():\n",
    "    print('global variable :',x)\n",
    "    def innerfunction1():\n",
    "        print('local variable :',x)\n",
    "    innerfunction1()\n",
    "\n",
    "x = x*2\n",
    "myfunction1()\n",
    "\n"
   ]
  },
  {
   "cell_type": "code",
   "execution_count": 3,
   "metadata": {},
   "outputs": [
    {
     "name": "stdout",
     "output_type": "stream",
     "text": [
      "local  200\n",
      "GLobal 300\n"
     ]
    }
   ],
   "source": [
    "# global variable\n",
    "\n",
    "x1 = 300\n",
    "def my_fun():\n",
    "    global x\n",
    "    x = 200\n",
    "    print('local ',x)\n",
    "    \n",
    "my_fun()\n",
    "print('GLobal',x1)\n",
    "\n"
   ]
  },
  {
   "cell_type": "code",
   "execution_count": 4,
   "metadata": {},
   "outputs": [
    {
     "name": "stdout",
     "output_type": "stream",
     "text": [
      "inner: python\n",
      "outer: python\n"
     ]
    }
   ],
   "source": [
    "def outerfunction():\n",
    "    x = \"hello\"\n",
    "\n",
    "    def innerfunction():\n",
    "        nonlocal x\n",
    "        x = \"python\"\n",
    "        print(\"inner:\", x)\n",
    "\n",
    "    innerfunction()\n",
    "    print(\"outer:\", x)\n",
    "\n",
    "\n",
    "outerfunction()"
   ]
  },
  {
   "cell_type": "code",
   "execution_count": 5,
   "metadata": {},
   "outputs": [
    {
     "data": {
      "text/plain": [
       "49"
      ]
     },
     "execution_count": 5,
     "metadata": {},
     "output_type": "execute_result"
    }
   ],
   "source": [
    "# Lambda Function : small anonymous fun, take any no.of arg but can have one expression\n",
    "\n",
    "# normal function\n",
    "def square(num):\n",
    "    return num**2\n",
    "\n",
    "square(7)\n",
    "\n"
   ]
  },
  {
   "cell_type": "code",
   "execution_count": 7,
   "metadata": {},
   "outputs": [
    {
     "data": {
      "text/plain": [
       "49"
      ]
     },
     "execution_count": 7,
     "metadata": {},
     "output_type": "execute_result"
    }
   ],
   "source": [
    "# lambda functions\n",
    "square = lambda num:num**2\n",
    "square(7)"
   ]
  },
  {
   "cell_type": "code",
   "execution_count": 8,
   "metadata": {},
   "outputs": [
    {
     "data": {
      "text/plain": [
       "24"
      ]
     },
     "execution_count": 8,
     "metadata": {},
     "output_type": "execute_result"
    }
   ],
   "source": [
    "# normal function\n",
    "def add(x,y,z):\n",
    "    return x * y * z\n",
    "\n",
    "add(2,3,4)"
   ]
  },
  {
   "cell_type": "code",
   "execution_count": 9,
   "metadata": {},
   "outputs": [
    {
     "data": {
      "text/plain": [
       "24"
      ]
     },
     "execution_count": 9,
     "metadata": {},
     "output_type": "execute_result"
    }
   ],
   "source": [
    "# lambda function\n",
    "add = lambda x,y,z:x * y * z\n",
    "add(2,3,4)"
   ]
  },
  {
   "cell_type": "code",
   "execution_count": 10,
   "metadata": {},
   "outputs": [
    {
     "name": "stdout",
     "output_type": "stream",
     "text": [
      "22\n",
      "33\n"
     ]
    }
   ],
   "source": [
    "#Ex:\n",
    "def myfunc(n):\n",
    "    return lambda a : a * n\n",
    "\n",
    "f1 = myfunc(2)\n",
    "f2= myfunc(3)\n",
    "\n",
    "print(f1(11))\n",
    "print(f2(11))"
   ]
  },
  {
   "cell_type": "code",
   "execution_count": 12,
   "metadata": {},
   "outputs": [
    {
     "name": "stdout",
     "output_type": "stream",
     "text": [
      "1\n",
      "4\n",
      "9\n",
      "16\n",
      "25\n"
     ]
    },
    {
     "data": {
      "text/plain": [
       "[1, 4, 9, 16, 25]"
      ]
     },
     "execution_count": 12,
     "metadata": {},
     "output_type": "execute_result"
    }
   ],
   "source": [
    "#They are mostly used along with map and filter functions\n",
    "#Map Function : The map function allows you to \"map\" a function to an iterable object.\n",
    "\n",
    "numbers = [1,2,3,4,5]\n",
    "def square(num):\n",
    "    return num**2\n",
    "\n",
    "map(square,numbers)\n",
    "\n",
    "for item in map(square,numbers):\n",
    "    print(item)\n",
    "list(map(square,numbers))"
   ]
  },
  {
   "cell_type": "code",
   "execution_count": 14,
   "metadata": {},
   "outputs": [
    {
     "data": {
      "text/plain": [
       "['apple', 'airport', 'ant']"
      ]
     },
     "execution_count": 14,
     "metadata": {},
     "output_type": "execute_result"
    }
   ],
   "source": [
    "# Filter Function : The filter function allows you to filter the elements.\n",
    "words_list = ['apple','banana','airport','ant','cat']\n",
    "def starts_with_a(word):\n",
    "    if(word[0] == 'a'):\n",
    "        return True\n",
    "    else:\n",
    "        return False\n",
    "\n",
    "list(filter(starts_with_a,words_list))  #['apple','airport','ant']\n",
    "\n"
   ]
  },
  {
   "cell_type": "code",
   "execution_count": 13,
   "metadata": {},
   "outputs": [
    {
     "data": {
      "text/plain": [
       "[1, 4, 9, 16, 25]"
      ]
     },
     "execution_count": 13,
     "metadata": {},
     "output_type": "execute_result"
    }
   ],
   "source": [
    "#With Lambda function : Map\n",
    "\n",
    "numbers = [1,2,3,4,5]\n",
    "\n",
    "# lambda with map function\n",
    "list(map(lambda num:num**2,numbers))\n",
    "\n"
   ]
  },
  {
   "cell_type": "code",
   "execution_count": 15,
   "metadata": {},
   "outputs": [
    {
     "name": "stdout",
     "output_type": "stream",
     "text": [
      "0\n",
      "2\n",
      "4\n",
      "6\n",
      "8\n",
      "10\n"
     ]
    }
   ],
   "source": [
    "#With Lambda Function : Filter\n",
    "nums = [0,1,2,3,4,5,6,7,8,9,10]\n",
    "for item in filter(lambda num:num%2 == 0,nums):\n",
    "    print(item)"
   ]
  },
  {
   "cell_type": "code",
   "execution_count": null,
   "metadata": {},
   "outputs": [],
   "source": []
  }
 ],
 "metadata": {
  "kernelspec": {
   "display_name": "Python 3",
   "language": "python",
   "name": "python3"
  },
  "language_info": {
   "codemirror_mode": {
    "name": "ipython",
    "version": 3
   },
   "file_extension": ".py",
   "mimetype": "text/x-python",
   "name": "python",
   "nbconvert_exporter": "python",
   "pygments_lexer": "ipython3",
   "version": "3.8.5"
  }
 },
 "nbformat": 4,
 "nbformat_minor": 4
}
